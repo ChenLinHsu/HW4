{
 "cells": [
  {
   "cell_type": "code",
   "execution_count": null,
   "id": "f671a43f",
   "metadata": {},
   "outputs": [],
   "source": [
    "import os\n",
    "import random\n",
    "import torch\n",
    "import torch.nn as nn\n",
    "import torch.optim as optim\n",
    "from torchvision.transforms import ToTensor\n",
    "from torch.utils.data import Dataset, DataLoader\n"
   ]
  },
  {
   "cell_type": "code",
   "execution_count": null,
   "id": "175e2c48",
   "metadata": {},
   "outputs": [],
   "source": [
    "image_directory = \"VOCtrainval_06-Nov-2007\\VOCdevkit\\VOC2007\\JPEGImages\"\n",
    "mask_directory = \"VOCtrainval_06-Nov-2007\\VOCdevkit\\VOC2007\\SegmentationClass\"\n",
    "batch_size = 32\n",
    "num_epochs = 10\n"
   ]
  },
  {
   "cell_type": "code",
   "execution_count": null,
   "id": "a7a45580",
   "metadata": {},
   "outputs": [],
   "source": [
    "import torch\n",
    "import torch.nn as nn\n",
    "\n",
    "import torch\n",
    "import torch.nn as nn\n",
    "import torch.nn.functional as F\n",
    "\n",
    "# 定义YOLO V3的主干网络Darknet\n",
    "class Darknet(nn.Module):\n",
    "    def __init__(self):\n",
    "        super(Darknet, self).__init__()\n",
    "        # 网络结构的定义\n",
    "\n",
    "    def forward(self, x):\n",
    "        # 网络前向传播逻辑的定义\n",
    "        pass\n",
    "\n",
    "# 定义YOLO V3模型\n",
    "class YOLOv3(nn.Module):\n",
    "    def __init__(self, num_classes):\n",
    "        super(YOLOv3, self).__init__()\n",
    "        self.backbone = Darknet()\n",
    "        # 其他组件的定义，如多尺度预测、边界框解码等\n",
    "\n",
    "    def forward(self, x):\n",
    "        # 模型前向传播逻辑的定义\n",
    "        pass\n",
    "\n",
    "# 创建YOLO V3模型实例\n",
    "model = YOLOv3(num_classes=20)  # 假设有20个类别\n",
    "\n",
    "# 输入数据并进行前向传播\n",
    "input_data = torch.randn(1, 3, 416, 416)  # 假设输入数据为1张416x416的RGB图像\n",
    "output = model(input_data)\n",
    "\n",
    "# 输出结果进行处理，如边界框解码、NMS等\n",
    "# ...\n",
    "\n",
    "# 计算损失函数并进行反向传播更新参数\n",
    "loss = compute_loss(output, target)  # 根据实际任务和数据定义损失函数\n",
    "loss.backward()\n",
    "optimizer.step()"
   ]
  },
  {
   "cell_type": "code",
   "execution_count": null,
   "id": "961afd3a",
   "metadata": {},
   "outputs": [],
   "source": [
    "class CustomDataset(Dataset):\n",
    "    def __init__(self, image_dir, mask_dir, transform=None):\n",
    "        self.image_files = os.listdir(image_dir)\n",
    "        self.mask_files = os.listdir(mask_dir)\n",
    "        self.image_dir = image_dir\n",
    "        self.mask_dir = mask_dir\n",
    "        self.transform = transform\n",
    "\n",
    "    def __len__(self):\n",
    "        return len(self.image_files)\n",
    "\n",
    "    def __getitem__(self, index):\n",
    "        image_path = os.path.join(self.image_dir, self.image_files[index])\n",
    "        mask_path = os.path.join(self.mask_dir, self.mask_files[index])\n",
    "        image = self.transform(Image.open(image_path))\n",
    "        mask = self.transform(Image.open(mask_path))\n",
    "        return image, mask\n"
   ]
  },
  {
   "cell_type": "code",
   "execution_count": null,
   "id": "11597760",
   "metadata": {},
   "outputs": [],
   "source": [
    "generator = generator.to(device)\n",
    "discriminator = discriminator.to(device)\n",
    "generator_optimizer = optim.Adam(generator.parameters(), lr=0.001)\n",
    "discriminator_optimizer = optim.Adam(discriminator.parameters(), lr=0.001)\n",
    "criterion = nn.BCELoss()\n"
   ]
  },
  {
   "cell_type": "code",
   "execution_count": null,
   "id": "7609581e",
   "metadata": {},
   "outputs": [],
   "source": [
    "transform = ToTensor()  # 图像转为Tensor\n",
    "dataset = CustomDataset(image_directory, mask_directory, transform=transform)\n",
    "dataloader = DataLoader(dataset, batch_size=batch_size, shuffle=True)\n"
   ]
  },
  {
   "cell_type": "code",
   "execution_count": null,
   "id": "1d02ff67",
   "metadata": {},
   "outputs": [],
   "source": [
    "for epoch in range(num_epochs):\n",
    "    for images, masks in dataloader:\n",
    "        images = images.to(device)\n",
    "        masks = masks.to(device)\n",
    "\n",
    "        # 将图像和遮罩图像输入生成器，生成合成图像\n",
    "        synthetic_images = generator(images)\n",
    "\n",
    "        # 将真实图像和合成图像与相应的遮罩图像一起输入给判别器进行判断\n",
    "        real_outputs = discriminator(images, masks)\n",
    "        synthetic_outputs = discriminator(synthetic_images, masks)\n",
    "\n",
    "        # 计算生成器和判别器的损失\n",
    "        generator_loss = criterion(synthetic_outputs, torch.ones_like(synthetic_outputs))\n",
    "        discriminator_loss = criterion(real_outputs, torch.ones_like(real_outputs)) + criterion(synthetic_outputs, torch.zeros_like(synthetic_outputs))\n",
    "\n",
    "        # 反向传播和更新生成器的参数\n",
    "        generator_optimizer.zero_grad()\n",
    "        generator_loss.backward()\n",
    "        generator_optimizer.step()\n",
    "\n",
    "        # 反向传播和更新判别器的参数\n",
    "        discriminator_optimizer.zero_grad()\n",
    "        discriminator_loss.backward()\n",
    "        discriminator_optimizer.step()\n",
    "\n",
    "    # 打印当前训练轮数和损失\n",
    "    print(f\"Epoch [{epoch+1}/{num_epochs}], Generator Loss: {generator_loss.item()}, Discriminator Loss: {discriminator_loss.item()}\")\n"
   ]
  },
  {
   "cell_type": "code",
   "execution_count": null,
   "id": "3a23bf0c",
   "metadata": {},
   "outputs": [],
   "source": []
  },
  {
   "cell_type": "code",
   "execution_count": null,
   "id": "20010824",
   "metadata": {},
   "outputs": [],
   "source": []
  }
 ],
 "metadata": {
  "kernelspec": {
   "display_name": "Python 3 (ipykernel)",
   "language": "python",
   "name": "python3"
  },
  "language_info": {
   "codemirror_mode": {
    "name": "ipython",
    "version": 3
   },
   "file_extension": ".py",
   "mimetype": "text/x-python",
   "name": "python",
   "nbconvert_exporter": "python",
   "pygments_lexer": "ipython3",
   "version": "3.9.12"
  }
 },
 "nbformat": 4,
 "nbformat_minor": 5
}
